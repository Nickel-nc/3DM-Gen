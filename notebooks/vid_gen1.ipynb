{
 "cells": [
  {
   "cell_type": "code",
   "execution_count": 1,
   "id": "ac23a9a8",
   "metadata": {},
   "outputs": [],
   "source": [
    "import librosa\n",
    "import numpy as np\n",
    "from moviepy.editor import VideoClip, AudioFileClip\n",
    "from moviepy.video.io.bindings import mplfig_to_npimage"
   ]
  },
  {
   "cell_type": "code",
   "execution_count": 2,
   "id": "2d803f06",
   "metadata": {},
   "outputs": [],
   "source": [
    "from mpl_toolkits.mplot3d.art3d import Poly3DCollection"
   ]
  },
  {
   "cell_type": "code",
   "execution_count": 3,
   "id": "1d33204d",
   "metadata": {},
   "outputs": [],
   "source": [
    "import time"
   ]
  },
  {
   "cell_type": "code",
   "execution_count": 4,
   "id": "d49e0ad7",
   "metadata": {},
   "outputs": [],
   "source": [
    "import sys"
   ]
  },
  {
   "cell_type": "code",
   "execution_count": 5,
   "id": "ca572b4e",
   "metadata": {},
   "outputs": [],
   "source": [
    "%load_ext autoreload\n",
    "%autoreload 2"
   ]
  },
  {
   "cell_type": "code",
   "execution_count": 6,
   "id": "ae15924d",
   "metadata": {},
   "outputs": [],
   "source": [
    "sys.path.append('..')\n",
    "sys.path.append('..\\\\tools\\\\visualize_app')"
   ]
  },
  {
   "cell_type": "code",
   "execution_count": 7,
   "id": "1f545de1",
   "metadata": {
    "scrolled": false
   },
   "outputs": [],
   "source": [
    "from plotter import SequenceDataGen"
   ]
  },
  {
   "cell_type": "code",
   "execution_count": 8,
   "id": "28081395",
   "metadata": {},
   "outputs": [],
   "source": [
    "from matplotlib import pyplot as plt"
   ]
  },
  {
   "cell_type": "code",
   "execution_count": 9,
   "id": "401d8769",
   "metadata": {},
   "outputs": [],
   "source": [
    "start = [\n",
    "    [45, -20, 20],   # 'rightMiddle'\n",
    "    [45, 110, 20],   # 'rightFront'\n",
    "    [-45, 110, 20],  # 'leftFront'\n",
    "    [-45, -20, 20],  # 'leftMiddle'\n",
    "    [0, -20, 20],    # 'leftBack'\n",
    "    [0, -20, 20]     # 'rightBack'\n",
    "]\n",
    "end = [\n",
    "    [45, -20, 20],\n",
    "    [0, 110, -80],\n",
    "    [-90, 110, -80],\n",
    "    [-45, -20, 20],\n",
    "    [0, -20, 20],\n",
    "    [0, -20, 20]\n",
    "]\n",
    "new_end = [\n",
    "    [45, -20, 20],\n",
    "    [90, 110, -80],\n",
    "    [0, 110, -80],\n",
    "    [-45, -20, 20],\n",
    "    [0, -20, 20],\n",
    "    [0, -20, 20]\n",
    "]"
   ]
  },
  {
   "cell_type": "code",
   "execution_count": 10,
   "id": "9540d430",
   "metadata": {},
   "outputs": [],
   "source": [
    "###"
   ]
  },
  {
   "cell_type": "code",
   "execution_count": 11,
   "id": "0a255b2a",
   "metadata": {},
   "outputs": [],
   "source": [
    "def read_wav(path):\n",
    "    signal, sr = librosa.load(path)\n",
    "    time = np.linspace(0, 1 / sr * len(signal), num=len(signal))\n",
    "    return {'signal': signal, 'time': time, 'sr': sr}\n",
    "\n",
    "\n",
    "def extract_beats(audio_dict):\n",
    "    tempo, beats = librosa.beat.beat_track(y=audio_dict['signal'], sr=audio_dict['sr'])\n",
    "    beats_time = librosa.frames_to_time(beats, sr=audio_dict['sr'])\n",
    "    return beats_time"
   ]
  },
  {
   "cell_type": "code",
   "execution_count": 12,
   "id": "47adf6b7",
   "metadata": {},
   "outputs": [],
   "source": [
    "audio_d = read_wav('test.wav')"
   ]
  },
  {
   "cell_type": "code",
   "execution_count": null,
   "id": "5db16b75",
   "metadata": {},
   "outputs": [],
   "source": [
    "###"
   ]
  },
  {
   "cell_type": "code",
   "execution_count": 13,
   "id": "cc0ee170",
   "metadata": {},
   "outputs": [],
   "source": [
    "audio_len = len(audio_d['signal'])/audio_d['sr']"
   ]
  },
  {
   "cell_type": "code",
   "execution_count": 14,
   "id": "56b9fe74",
   "metadata": {},
   "outputs": [],
   "source": [
    "beats = extract_beats(audio_d)"
   ]
  },
  {
   "cell_type": "code",
   "execution_count": 15,
   "id": "ac25a134",
   "metadata": {},
   "outputs": [
    {
     "data": {
      "text/plain": [
       "array([0.60371882, 1.11455782, 1.64861678, 2.15945578, 2.69351474,\n",
       "       3.20435374, 3.7384127 , 4.2492517 ])"
      ]
     },
     "execution_count": 15,
     "metadata": {},
     "output_type": "execute_result"
    }
   ],
   "source": [
    "beats"
   ]
  },
  {
   "cell_type": "code",
   "execution_count": 16,
   "id": "19275af4",
   "metadata": {},
   "outputs": [],
   "source": [
    "beats = np.append([0], beats)"
   ]
  },
  {
   "cell_type": "code",
   "execution_count": 17,
   "id": "6a86cd84",
   "metadata": {},
   "outputs": [],
   "source": [
    "### generate sequence"
   ]
  },
  {
   "cell_type": "code",
   "execution_count": 18,
   "id": "ff829268",
   "metadata": {},
   "outputs": [],
   "source": [
    "fps = 40\n",
    "vid_dt = 1./fps"
   ]
  },
  {
   "cell_type": "code",
   "execution_count": 19,
   "id": "98c8b84a",
   "metadata": {},
   "outputs": [],
   "source": [
    "s = SequenceDataGen()"
   ]
  },
  {
   "cell_type": "code",
   "execution_count": 20,
   "id": "9955fc0e",
   "metadata": {},
   "outputs": [
    {
     "name": "stdout",
     "output_type": "stream",
     "text": [
      "24\n",
      "20\n",
      "21\n",
      "20\n",
      "21\n",
      "20\n",
      "21\n",
      "20\n"
     ]
    }
   ],
   "source": [
    "for ix in range( (len(beats)-1)//2 ):\n",
    "    n_frames = int(np.floor((beats[2*ix+1]-beats[2*ix])/vid_dt))\n",
    "    s.get_sequence(start_pose=start, end_pose=end, n_frames=n_frames, reverse=False)\n",
    "    print(n_frames)\n",
    "    n_frames = int(np.floor((beats[2*ix+2]-beats[2*ix+1])/vid_dt))\n",
    "    s.get_sequence(start_pose=end, end_pose=start, n_frames=n_frames, reverse=False)\n",
    "    print(n_frames)"
   ]
  },
  {
   "cell_type": "code",
   "execution_count": 21,
   "id": "6be196cc",
   "metadata": {},
   "outputs": [],
   "source": [
    "## fill missing"
   ]
  },
  {
   "cell_type": "code",
   "execution_count": 22,
   "id": "d5d71fd0",
   "metadata": {},
   "outputs": [],
   "source": [
    "n_fr_miss = int((audio_len - len(s.leg_lines)/fps)*fps)"
   ]
  },
  {
   "cell_type": "code",
   "execution_count": 23,
   "id": "9b0fe40b",
   "metadata": {},
   "outputs": [],
   "source": [
    "s.get_sequence(start_pose=start, end_pose=start, n_frames=n_fr_miss, reverse=False)"
   ]
  },
  {
   "cell_type": "code",
   "execution_count": 24,
   "id": "bbab2586",
   "metadata": {},
   "outputs": [],
   "source": [
    "video_frames = len(s.leg_lines)\n",
    "video_dur = len(s.leg_lines)/fps"
   ]
  },
  {
   "cell_type": "code",
   "execution_count": 25,
   "id": "3f2c43c7",
   "metadata": {},
   "outputs": [],
   "source": [
    "###"
   ]
  },
  {
   "cell_type": "code",
   "execution_count": 26,
   "id": "ade54e39",
   "metadata": {},
   "outputs": [],
   "source": [
    "def draw_hexapod(fig, ax, t, leg_lines, body_poly, body_vertices):\n",
    "    \n",
    "    ax.clear()\n",
    "    i = int(t/vid_dt)\n",
    "    # plt.cla()\n",
    "    # plt.gcf().canvas.mpl_connect('key_release_event',\n",
    "    #                              lambda event: [exit(0) if event.key == 'escape' else None])\n",
    "\n",
    "    # plot base stand polygon\n",
    "    # base_poly = Poly3DCollection([stand_pts], alpha=0.5)\n",
    "    # ax.add_collection3d(base_poly)\n",
    "\n",
    "    # plot hexapod body polygon\n",
    "    poly = Poly3DCollection([body_poly[i]], alpha=0.5)\n",
    "    ax.add_collection3d(poly)\n",
    "    # plot poly vertices\n",
    "    ax.plot(body_vertices[i][0], body_vertices[i][1], body_vertices[i][2])\n",
    "    ax.scatter(body_vertices[i][0], body_vertices[i][1], body_vertices[i][2])\n",
    "    # plot legs\n",
    "    for leg in leg_lines[i]:\n",
    "        ax.plot(leg[0], leg[1], leg[2])\n",
    "        ax.scatter(leg[0], leg[1], leg[2])\n",
    "\n",
    "    # remove axis info\n",
    "    for axis in [ax.xaxis, ax.yaxis, ax.zaxis]:\n",
    "        axis._axinfo['tick']['inward_factor'] = 0.0\n",
    "        axis._axinfo['tick']['outward_factor'] = 0.0\n",
    "\n",
    "    # setup current frame settings\n",
    "    ax.set_xlim3d([-400,400])\n",
    "    ax.set_ylim3d([-400,400])\n",
    "    ax.set_zlim3d([0,300])\n",
    "    # ax.margins(x=0, y=-0.25, z=50)\n",
    "    # ax.set_aspect('equal')\n",
    "    ax.view_init(elev=30, azim=75)\n",
    "\n",
    "\n",
    "        # plt.pause(0.1)\n",
    "    return mplfig_to_npimage(fig)\n"
   ]
  },
  {
   "cell_type": "code",
   "execution_count": null,
   "id": "f63565e5",
   "metadata": {},
   "outputs": [],
   "source": [
    "###"
   ]
  },
  {
   "cell_type": "code",
   "execution_count": 27,
   "id": "a0aeebaf",
   "metadata": {},
   "outputs": [
    {
     "data": {
      "image/png": "[encoded data removed]",
      "text/plain": [
       "<Figure size 864x864 with 1 Axes>"
      ]
     },
     "metadata": {},
     "output_type": "display_data"
    }
   ],
   "source": [
    "fig = plt.figure()\n",
    "ax = fig.add_subplot(projection='3d')\n",
    "video = VideoClip(lambda x: draw_hexapod(fig, ax, x, s.leg_lines, s.body_poly, s.body_vertices), duration=video_dur)"
   ]
  },
  {
   "cell_type": "code",
   "execution_count": 28,
   "id": "573bc5f3",
   "metadata": {},
   "outputs": [],
   "source": [
    "audio = AudioFileClip('test.wav')"
   ]
  },
  {
   "cell_type": "code",
   "execution_count": 29,
   "id": "03c272b9",
   "metadata": {},
   "outputs": [],
   "source": [
    "final_vid = video.set_audio(audio)"
   ]
  },
  {
   "cell_type": "code",
   "execution_count": 30,
   "id": "0fbe8107",
   "metadata": {},
   "outputs": [
    {
     "name": "stderr",
     "output_type": "stream",
     "text": [
      "t:   0%|                                                                             | 0/200 [00:00<?, ?it/s, now=None]"
     ]
    },
    {
     "name": "stdout",
     "output_type": "stream",
     "text": [
      "Moviepy - Building video test.mp4.\n",
      "MoviePy - Writing audio in testTEMP_MPY_wvf_snd.mp3\n",
      "MoviePy - Done.\n",
      "Moviepy - Writing video test.mp4\n",
      "\n"
     ]
    },
    {
     "name": "stderr",
     "output_type": "stream",
     "text": [
      "                                                                                                                       \r"
     ]
    },
    {
     "name": "stdout",
     "output_type": "stream",
     "text": [
      "Moviepy - Done !\n",
      "Moviepy - video ready test.mp4\n",
      "Total secs: 24.31874990463257\n"
     ]
    }
   ],
   "source": [
    "t1 = time.time()\n",
    "final_vid.write_videofile(fps=fps, codec='libx264', filename='test.mp4')\n",
    "print(f'Total secs: {time.time()-t1}')"
   ]
  },
  {
   "cell_type": "code",
   "execution_count": null,
   "id": "744f0d95",
   "metadata": {},
   "outputs": [],
   "source": []
  },
  {
   "cell_type": "code",
   "execution_count": null,
   "id": "85b95ad5",
   "metadata": {},
   "outputs": [],
   "source": []
  }
 ],
 "metadata": {
  "kernelspec": {
   "display_name": "Python 3",
   "language": "python",
   "name": "python3"
  },
  "language_info": {
   "codemirror_mode": {
    "name": "ipython",
    "version": 3
   },
   "file_extension": ".py",
   "mimetype": "text/x-python",
   "name": "python",
   "nbconvert_exporter": "python",
   "pygments_lexer": "ipython3",
   "version": "3.8.8"
  }
 },
 "nbformat": 4,
 "nbformat_minor": 5
}
